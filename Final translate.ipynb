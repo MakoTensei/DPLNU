{
 "cells": [
  {
   "cell_type": "code",
   "execution_count": 2,
   "id": "dd169855-8759-4b9e-960d-5158346ea63c",
   "metadata": {
    "tags": []
   },
   "outputs": [],
   "source": [
    "# The code was written via help of examples from official argostranslate repository on github\n",
    "# link : https://github.com/argosopentech/argos-translate"
   ]
  },
  {
   "cell_type": "code",
   "execution_count": 1,
   "id": "f400557a-d4cd-43e1-8a05-88ffc58589cb",
   "metadata": {
    "tags": []
   },
   "outputs": [
    {
     "name": "stdout",
     "output_type": "stream",
     "text": [
      "Hello world\n"
     ]
    }
   ],
   "source": [
    "import argostranslate.package\n",
    "import argostranslate.translate\n",
    "\n",
    "# Choosing the languages and downloading the necessary packages for translation\n",
    "from_code = \"de\"\n",
    "to_code = \"en\"\n",
    "\n",
    "argostranslate.package.update_package_index()\n",
    "available_packages = argostranslate.package.get_available_packages()\n",
    "package_to_install = next(\n",
    "    filter(\n",
    "        lambda x: x.from_code == from_code and x.to_code == to_code, available_packages\n",
    "    )\n",
    ")\n",
    "argostranslate.package.install_from_path(package_to_install.download())\n",
    "\n",
    "# Translating\n",
    "translatedText = argostranslate.translate.translate(\"Hallo Welt\", from_code, to_code)\n",
    "print(translatedText)"
   ]
  },
  {
   "cell_type": "code",
   "execution_count": null,
   "id": "2b5f37de-54b9-4ee8-bf4f-bc5357373c22",
   "metadata": {},
   "outputs": [],
   "source": [
    "import os\n",
    "import xml.etree.ElementTree as ET\n",
    "import argostranslate.translate\n",
    "\n",
    "# The same code as in block above, but with focus on directory translation and a progress manager in order to keep track\n",
    "from_code = \"de\"\n",
    "to_code = \"en\"\n",
    "\n",
    "def translate_bpmn_files_in_directory():\n",
    "    current_directory = os.getcwd()\n",
    "    translated_directory = os.path.join(current_directory, \"translated\")\n",
    "    if not os.path.exists(translated_directory):\n",
    "        os.makedirs(translated_directory)\n",
    "\n",
    "    files_processed = 0\n",
    "\n",
    "    for filename in os.listdir(current_directory):\n",
    "        if filename.endswith(\".bpmn\"):\n",
    "            file_path = os.path.join(current_directory, filename)\n",
    "            try:\n",
    "                tree = ET.parse(file_path)\n",
    "                root = tree.getroot()\n",
    "\n",
    "                for element in root.iter():\n",
    "                    if 'name' in element.attrib and element.attrib['name']:\n",
    "                        try:\n",
    "                            translatedText = argostranslate.translate.translate(element.attrib['name'], from_code, to_code,)\n",
    "                            element.attrib['name'] = translatedText\n",
    "                        except Exception as trans_error:\n",
    "                            print(f\"Translation error for text '{element.attrib['name']}' in file {filename}: {trans_error}\")\n",
    "\n",
    "                translated_file_path = os.path.join(translated_directory, filename.replace('.bpmn', '_translated.bpmn'))\n",
    "                tree.write(translated_file_path)\n",
    "                files_processed += 1\n",
    "                if files_processed % 100 == 0:\n",
    "                    print(f\"Translation completed for {files_processed} files.\")\n",
    "            except ET.ParseError as pe:\n",
    "                print(f\"Error parsing the BPMN file {filename}: {pe}\")\n",
    "            except Exception as e:\n",
    "                print(f\"An error occurred while processing {filename}: {e}\")\n",
    "\n",
    "    print(f\"Translation completed for all files. Translated files are stored in '{translated_directory}'.\")\n",
    "\n",
    "if __name__ == \"__main__\":\n",
    "    translate_bpmn_files_in_directory()\n"
   ]
  }
 ],
 "metadata": {
  "kernelspec": {
   "display_name": "Python 3 (ipykernel)",
   "language": "python",
   "name": "python3"
  },
  "language_info": {
   "codemirror_mode": {
    "name": "ipython",
    "version": 3
   },
   "file_extension": ".py",
   "mimetype": "text/x-python",
   "name": "python",
   "nbconvert_exporter": "python",
   "pygments_lexer": "ipython3",
   "version": "3.11.5"
  }
 },
 "nbformat": 4,
 "nbformat_minor": 5
}
